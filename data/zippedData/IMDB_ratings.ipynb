{
 "cells": [
  {
   "cell_type": "code",
   "execution_count": null,
   "metadata": {},
   "outputs": [],
   "source": []
  },
  {
   "cell_type": "code",
   "execution_count": 4,
   "metadata": {},
   "outputs": [],
   "source": [
    "import pandas as pd\n",
    "import numpy as np\n",
    "import matplotlib.pyplot as plt\n",
    "%matplotlib inline\n",
    "import seaborn as sns\n",
    "import sqlite3\n",
    "\n",
    "import random\n",
    "\n",
    "from IPython.display import Image \n",
    "\n",
    "from matplotlib.pyplot import show,figure,subplot\n",
    "from matplotlib import dates as dates "
   ]
  },
  {
   "cell_type": "code",
   "execution_count": 5,
   "metadata": {},
   "outputs": [
    {
     "name": "stdout",
     "output_type": "stream",
     "text": [
      "      imdb_title_id  weighted_average_vote  total_votes  mean_vote  \\\n",
      "0         tt0000009                    5.9          154        5.9   \n",
      "1         tt0000574                    6.1          589        6.3   \n",
      "2         tt0001892                    5.8          188        6.0   \n",
      "3         tt0002101                    5.2          446        5.3   \n",
      "4         tt0002130                    7.0         2237        6.9   \n",
      "...             ...                    ...          ...        ...   \n",
      "85850     tt9908390                    5.3          398        5.5   \n",
      "85851     tt9911196                    7.7          724        7.9   \n",
      "85852     tt9911774                    7.9          265        7.8   \n",
      "85853     tt9914286                    6.4          194        9.4   \n",
      "85854     tt9914942                    6.7          102        6.8   \n",
      "\n",
      "       median_vote  votes_10  votes_9  votes_8  votes_7  votes_6  ...  \\\n",
      "0              6.0        12        4       10       43       28  ...   \n",
      "1              6.0        57       18       58      137      139  ...   \n",
      "2              6.0         6        6       17       44       52  ...   \n",
      "3              5.0        15        8       16       62       98  ...   \n",
      "4              7.0       210      225      436      641      344  ...   \n",
      "...            ...       ...      ...      ...      ...      ...  ...   \n",
      "85850          6.0        13        9       26       65      104  ...   \n",
      "85851          8.0        65      139      288      170       42  ...   \n",
      "85852          8.0        63       29       61       61       31  ...   \n",
      "85853         10.0       176        0        2        2        1  ...   \n",
      "85854          7.0         4        4       21       35       27  ...   \n",
      "\n",
      "       females_30age_avg_vote  females_30age_votes  females_45age_avg_vote  \\\n",
      "0                         5.7                 13.0                     4.5   \n",
      "1                         6.2                 23.0                     6.6   \n",
      "2                         5.8                  4.0                     6.8   \n",
      "3                         5.5                 14.0                     6.1   \n",
      "4                         7.3                 82.0                     7.4   \n",
      "...                       ...                  ...                     ...   \n",
      "85850                     5.7                 11.0                     5.0   \n",
      "85851                     8.0                 47.0                     7.3   \n",
      "85852                     NaN                  NaN                     NaN   \n",
      "85853                     NaN                  NaN                     7.0   \n",
      "85854                     6.8                  4.0                     7.5   \n",
      "\n",
      "       females_45age_votes  top1000_voters_rating  top1000_voters_votes  \\\n",
      "0                      4.0                    5.7                  34.0   \n",
      "1                     14.0                    6.4                  66.0   \n",
      "2                      7.0                    5.4                  32.0   \n",
      "3                     21.0                    4.9                  57.0   \n",
      "4                     77.0                    6.9                 139.0   \n",
      "...                    ...                    ...                   ...   \n",
      "85850                  2.0                    5.5                  12.0   \n",
      "85851                 30.0                    7.0                   6.0   \n",
      "85852                  NaN                    1.0                   1.0   \n",
      "85853                  1.0                    4.0                   3.0   \n",
      "85854                  4.0                    7.0                   4.0   \n",
      "\n",
      "       us_voters_rating  us_voters_votes  non_us_voters_rating  \\\n",
      "0                   6.4             51.0                   6.0   \n",
      "1                   6.0             96.0                   6.2   \n",
      "2                   6.2             31.0                   5.9   \n",
      "3                   5.5            207.0                   4.7   \n",
      "4                   7.0            488.0                   7.0   \n",
      "...                 ...              ...                   ...   \n",
      "85850               6.3             22.0                   5.3   \n",
      "85851               6.8             13.0                   7.7   \n",
      "85852               NaN              NaN                   2.0   \n",
      "85853               1.7              5.0                   5.8   \n",
      "85854               6.7             13.0                   6.7   \n",
      "\n",
      "       non_us_voters_votes  \n",
      "0                     70.0  \n",
      "1                    331.0  \n",
      "2                    123.0  \n",
      "3                    105.0  \n",
      "4                   1166.0  \n",
      "...                    ...  \n",
      "85850                214.0  \n",
      "85851                388.0  \n",
      "85852                  2.0  \n",
      "85853                  5.0  \n",
      "85854                 60.0  \n",
      "\n",
      "[85855 rows x 49 columns]\n"
     ]
    }
   ],
   "source": [
    "df = pd.read_csv (r'C:\\Users\\Lookupkim\\Flatiron\\phase_1\\Microsoft-Movie-Analysis\\data\\zippedData\\IMDb_ratings.csv.zip')  \n",
    "print (df)"
   ]
  },
  {
   "cell_type": "code",
   "execution_count": 6,
   "metadata": {},
   "outputs": [],
   "source": []
  },
  {
   "cell_type": "code",
   "execution_count": null,
   "metadata": {},
   "outputs": [],
   "source": []
  }
 ],
 "metadata": {
  "kernelspec": {
   "display_name": "Python 3",
   "language": "python",
   "name": "python3"
  },
  "language_info": {
   "codemirror_mode": {
    "name": "ipython",
    "version": 3
   },
   "file_extension": ".py",
   "mimetype": "text/x-python",
   "name": "python",
   "nbconvert_exporter": "python",
   "pygments_lexer": "ipython3",
   "version": "3.8.5"
  }
 },
 "nbformat": 4,
 "nbformat_minor": 4
}
